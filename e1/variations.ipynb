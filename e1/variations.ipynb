{
 "metadata": {
  "name": "",
  "signature": "sha256:1430d2f28f07d25d09bfe164a51d99d40f662381eeb5a6d7cf1fd72c8b280c18"
 },
 "nbformat": 3,
 "nbformat_minor": 0,
 "worksheets": [
  {
   "cells": [
    {
     "cell_type": "markdown",
     "metadata": {
      "slideshow": {
       "slide_type": "slide"
      }
     },
     "source": [
      "# [Multiples of 3 and 5](https://projecteuler.net/problem=1)\n",
      "\n",
      "If we list all the natural numbers below 10 that are multiples of 3 or 5, we get 3, 5, 6 and 9. The sum of these multiples is 23.\n",
      "\n",
      "Find the sum of all the multiples of 3 or 5 below 1000."
     ]
    },
    {
     "cell_type": "markdown",
     "metadata": {
      "slideshow": {
       "slide_type": "slide"
      }
     },
     "source": [
      "## V1"
     ]
    },
    {
     "cell_type": "code",
     "collapsed": false,
     "input": [
      "# with the most 'conventional' and minimal \n",
      "# set of keywords, datastructures and constructs\n",
      "i = 1  # counter\n",
      "x = 0  # result\n",
      "while i < 1000:\n",
      "    if i % 3 == 0:\n",
      "        x = x + i\n",
      "    elif i % 5 == 0:\n",
      "        x = x + i\n",
      "    i = i + 1\n",
      "x"
     ],
     "language": "python",
     "metadata": {
      "slideshow": {
       "slide_type": "subslide"
      }
     },
     "outputs": [
      {
       "metadata": {},
       "output_type": "pyout",
       "prompt_number": 24,
       "text": [
        "233168"
       ]
      }
     ],
     "prompt_number": 24
    },
    {
     "cell_type": "markdown",
     "metadata": {
      "slideshow": {
       "slide_type": "slide"
      }
     },
     "source": [
      "## V2"
     ]
    },
    {
     "cell_type": "code",
     "collapsed": false,
     "input": [
      "# use a logic operator instead of if/elif\n",
      "i = 1  # counter\n",
      "x = 0  # result\n",
      "while i < 1000:\n",
      "    if i % 3 == 0 or i % 5 == 0:\n",
      "        x = x + i\n",
      "    i = i + 1\n",
      "x"
     ],
     "language": "python",
     "metadata": {
      "slideshow": {
       "slide_type": "subslide"
      }
     },
     "outputs": [
      {
       "metadata": {},
       "output_type": "pyout",
       "prompt_number": 25,
       "text": [
        "233168"
       ]
      }
     ],
     "prompt_number": 25
    },
    {
     "cell_type": "markdown",
     "metadata": {
      "slideshow": {
       "slide_type": "slide"
      }
     },
     "source": [
      "## V3"
     ]
    },
    {
     "cell_type": "code",
     "collapsed": false,
     "input": [
      "# instead of using a while loop and a counter\n",
      "# explicitly iterate over 1 .. 999 with range() \n",
      "x = 0  # result\n",
      "for i in range(1000):\n",
      "    if i % 3 == 0 or i % 5 == 0:\n",
      "        x = x + i\n",
      "x"
     ],
     "language": "python",
     "metadata": {
      "slideshow": {
       "slide_type": "subslide"
      }
     },
     "outputs": [
      {
       "metadata": {},
       "output_type": "pyout",
       "prompt_number": 40,
       "text": [
        "233168"
       ]
      }
     ],
     "prompt_number": 40
    },
    {
     "cell_type": "code",
     "collapsed": false,
     "input": [
      "# introducing augmented assignments \n",
      "x = 0  # result\n",
      "for i in range(1000):\n",
      "    if i % 3 == 0 or i % 5 == 0:\n",
      "        x += i\n",
      "x"
     ],
     "language": "python",
     "metadata": {
      "slideshow": {
       "slide_type": "subslide"
      }
     },
     "outputs": [
      {
       "metadata": {},
       "output_type": "pyout",
       "prompt_number": 31,
       "text": [
        "233168"
       ]
      }
     ],
     "prompt_number": 31
    },
    {
     "cell_type": "markdown",
     "metadata": {
      "slideshow": {
       "slide_type": "slide"
      }
     },
     "source": [
      "## Introducing aspects of functional programming"
     ]
    },
    {
     "cell_type": "code",
     "collapsed": true,
     "input": [
      "# List comprehension\n",
      "# instead of explicitly iterating \n",
      "# generate a list with all elements that fit the criteria \n",
      "l = [e for e in range(1000) if e % 3 == 0 or e % 5 == 0]\n",
      "sum(l)\n"
     ],
     "language": "python",
     "metadata": {
      "slideshow": {
       "slide_type": "subslide"
      }
     },
     "outputs": [
      {
       "metadata": {},
       "output_type": "pyout",
       "prompt_number": 30,
       "text": [
        "233168"
       ]
      }
     ],
     "prompt_number": 30
    },
    {
     "cell_type": "code",
     "collapsed": false,
     "input": [
      "# completely without any (visible) iteration\n",
      "sum(filter(lambda e: e % 3 == 0 or e % 5 == 0, range(1000)))"
     ],
     "language": "python",
     "metadata": {},
     "outputs": [
      {
       "metadata": {},
       "output_type": "pyout",
       "prompt_number": 39,
       "text": [
        "233168"
       ]
      }
     ],
     "prompt_number": 39
    },
    {
     "cell_type": "code",
     "collapsed": false,
     "input": [
      "from functools import reduce\n",
      "from operator import add\n",
      "\n",
      "reduce(add, [e for e in range(1000) if e % 3 == 0 or e % 5 == 0])"
     ],
     "language": "python",
     "metadata": {
      "slideshow": {
       "slide_type": "subslide"
      }
     },
     "outputs": [
      {
       "metadata": {},
       "output_type": "pyout",
       "prompt_number": 37,
       "text": [
        "233168"
       ]
      }
     ],
     "prompt_number": 37
    },
    {
     "cell_type": "markdown",
     "metadata": {
      "slideshow": {
       "slide_type": "slide"
      }
     },
     "source": [
      "## Extending the functionality"
     ]
    },
    {
     "cell_type": "markdown",
     "metadata": {
      "slideshow": {
       "slide_type": "slide"
      }
     },
     "source": [
      "### Parametrize the upper limit"
     ]
    },
    {
     "cell_type": "code",
     "collapsed": false,
     "input": [
      "def mult_of_3_or_5(limit):\n",
      "    return [e for e in range(limit) if e % 3 == 0 or e % 5 == 0]\n",
      "\n",
      "sum(mult_of_3_or_5(1000))"
     ],
     "language": "python",
     "metadata": {
      "slideshow": {
       "slide_type": "subslide"
      }
     },
     "outputs": [
      {
       "metadata": {},
       "output_type": "pyout",
       "prompt_number": 42,
       "text": [
        "233168"
       ]
      }
     ],
     "prompt_number": 42
    },
    {
     "cell_type": "markdown",
     "metadata": {
      "slideshow": {
       "slide_type": "slide"
      }
     },
     "source": [
      "### Parametrize the numbers to be divisible by"
     ]
    },
    {
     "cell_type": "markdown",
     "metadata": {
      "slideshow": {
       "slide_type": "subslide"
      }
     },
     "source": [
      "#### V1"
     ]
    },
    {
     "cell_type": "code",
     "collapsed": false,
     "input": [
      "def mult_of(limit, divisors):\n",
      "    numbers = set()\n",
      "    for e in range(limit):\n",
      "        for divisor in divisors:\n",
      "            if e % divisor == 0:\n",
      "                numbers.add(e)\n",
      "    return numbers\n",
      "\n",
      "print(sum(mult_of(1000, [3, 5])))"
     ],
     "language": "python",
     "metadata": {
      "slideshow": {
       "slide_type": "subslide"
      }
     },
     "outputs": [
      {
       "output_type": "stream",
       "stream": "stdout",
       "text": [
        "233168\n"
       ]
      }
     ],
     "prompt_number": 43
    },
    {
     "cell_type": "markdown",
     "metadata": {
      "slideshow": {
       "slide_type": "slide"
      }
     },
     "source": [
      "#### V2"
     ]
    },
    {
     "cell_type": "code",
     "collapsed": false,
     "input": [
      "# use any(iterable) instead of loop\n",
      "def mult_of(limit, divisors):\n",
      "    # note: no [] -> generator expression\n",
      "    return {e for e in range(limit) if \n",
      "               any(e % d == 0 for d in divisors)})\n",
      "\n",
      "print(sum(mult_of(1000, [3, 5])))"
     ],
     "language": "python",
     "metadata": {
      "slideshow": {
       "slide_type": "subslide"
      }
     },
     "outputs": [
      {
       "ename": "TypeError",
       "evalue": "'type' object is not iterable",
       "output_type": "pyerr",
       "traceback": [
        "\u001b[1;31m---------------------------------------------------------------------------\u001b[0m\n\u001b[1;31mTypeError\u001b[0m                                 Traceback (most recent call last)",
        "\u001b[1;32m<ipython-input-51-488a594b60fd>\u001b[0m in \u001b[0;36m<module>\u001b[1;34m()\u001b[0m\n\u001b[0;32m      5\u001b[0m                any(e % d == 0 for d in divisors)})\n\u001b[0;32m      6\u001b[0m \u001b[1;33m\u001b[0m\u001b[0m\n\u001b[1;32m----> 7\u001b[1;33m \u001b[0mprint\u001b[0m\u001b[1;33m(\u001b[0m\u001b[0msum\u001b[0m\u001b[1;33m(\u001b[0m\u001b[0mmult_of\u001b[0m\u001b[1;33m(\u001b[0m\u001b[1;36m1000\u001b[0m\u001b[1;33m,\u001b[0m \u001b[1;33m[\u001b[0m\u001b[1;36m3\u001b[0m\u001b[1;33m,\u001b[0m \u001b[1;36m5\u001b[0m\u001b[1;33m]\u001b[0m\u001b[1;33m)\u001b[0m\u001b[1;33m)\u001b[0m\u001b[1;33m)\u001b[0m\u001b[1;33m\u001b[0m\u001b[0m\n\u001b[0m",
        "\u001b[1;31mTypeError\u001b[0m: 'type' object is not iterable"
       ]
      }
     ],
     "prompt_number": 51
    }
   ],
   "metadata": {}
  }
 ]
}