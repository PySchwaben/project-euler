{
 "metadata": {
  "celltoolbar": "Slideshow",
  "name": "",
  "signature": "sha256:3374b2702993f2daea1866e4fe16e5300212e19b05add1fd4d94959db436c031"
 },
 "nbformat": 3,
 "nbformat_minor": 0,
 "worksheets": [
  {
   "cells": [
    {
     "cell_type": "markdown",
     "metadata": {
      "slideshow": {
       "slide_type": "slide"
      }
     },
     "source": [
      "# [Multiples of 3 and 5](https://projecteuler.net/problem=1)\n",
      "\n",
      "If we list all the natural numbers below 10 that are multiples of 3 or 5, we get 3, 5, 6 and 9. The sum of these multiples is 23.\n",
      "\n",
      "Find the sum of all the multiples of 3 or 5 below 1000."
     ]
    },
    {
     "cell_type": "markdown",
     "metadata": {
      "slideshow": {
       "slide_type": "slide"
      }
     },
     "source": [
      "## V1"
     ]
    },
    {
     "cell_type": "code",
     "collapsed": false,
     "input": [
      "# with the most 'conventional' and minimal \n",
      "# set of keywords, datastructures and constructs\n",
      "i = 1  # counter\n",
      "x = 0  # result\n",
      "while i < 1000:\n",
      "    if i % 3 == 0:\n",
      "        x = x + i\n",
      "    elif i % 5 == 0:\n",
      "        x = x + i\n",
      "    i = i + 1\n",
      "x"
     ],
     "language": "python",
     "metadata": {
      "slideshow": {
       "slide_type": "subslide"
      }
     },
     "outputs": []
    },
    {
     "cell_type": "markdown",
     "metadata": {
      "slideshow": {
       "slide_type": "slide"
      }
     },
     "source": [
      "## V2"
     ]
    },
    {
     "cell_type": "code",
     "collapsed": false,
     "input": [
      "# use a logic operator instead of if/elif\n",
      "i = 1  # counter\n",
      "x = 0  # result\n",
      "while i < 1000:\n",
      "    if i % 3 == 0 or i % 5 == 0:\n",
      "        x = x + i\n",
      "    i = i + 1\n",
      "x"
     ],
     "language": "python",
     "metadata": {
      "slideshow": {
       "slide_type": "subslide"
      }
     },
     "outputs": []
    },
    {
     "cell_type": "markdown",
     "metadata": {
      "slideshow": {
       "slide_type": "slide"
      }
     },
     "source": [
      "## V3"
     ]
    },
    {
     "cell_type": "code",
     "collapsed": false,
     "input": [
      "# instead of using a while loop and a counter\n",
      "# explicitly iterate over 1 .. 999 with range() \n",
      "x = 0  # result\n",
      "for i in range(1000):\n",
      "    if i % 3 == 0 or i % 5 == 0:\n",
      "        x = x + i\n",
      "x"
     ],
     "language": "python",
     "metadata": {
      "slideshow": {
       "slide_type": "subslide"
      }
     },
     "outputs": []
    },
    {
     "cell_type": "code",
     "collapsed": false,
     "input": [
      "# introducing augmented assignments \n",
      "x = 0  # result\n",
      "for i in range(1000):\n",
      "    if i % 3 == 0 or i % 5 == 0:\n",
      "        x += i\n",
      "x"
     ],
     "language": "python",
     "metadata": {
      "slideshow": {
       "slide_type": "subslide"
      }
     },
     "outputs": []
    },
    {
     "cell_type": "markdown",
     "metadata": {
      "slideshow": {
       "slide_type": "slide"
      }
     },
     "source": [
      "## Introducing aspects of functional programming"
     ]
    },
    {
     "cell_type": "code",
     "collapsed": true,
     "input": [
      "# List comprehension\n",
      "# instead of explicitly iterating \n",
      "# generate a list with all elements that fit the criteria \n",
      "l = [e for e in range(1000) if e % 3 == 0 or e % 5 == 0]\n",
      "sum(l)\n"
     ],
     "language": "python",
     "metadata": {
      "slideshow": {
       "slide_type": "subslide"
      }
     },
     "outputs": []
    },
    {
     "cell_type": "code",
     "collapsed": false,
     "input": [
      "# completely without any (visible) iteration\n",
      "sum(filter(lambda e: e % 3 == 0 or e % 5 == 0, range(1000)))"
     ],
     "language": "python",
     "metadata": {
      "slideshow": {
       "slide_type": "subslide"
      }
     },
     "outputs": []
    },
    {
     "cell_type": "code",
     "collapsed": false,
     "input": [
      "# Like Stefan suggested ... I guess I got it wrong though\n",
      "from functools import reduce\n",
      "from operator import add\n",
      "\n",
      "reduce(add, [e for e in range(1000) if e % 3 == 0 or e % 5 == 0])"
     ],
     "language": "python",
     "metadata": {
      "slideshow": {
       "slide_type": "subslide"
      }
     },
     "outputs": []
    },
    {
     "cell_type": "markdown",
     "metadata": {
      "slideshow": {
       "slide_type": "slide"
      }
     },
     "source": [
      "## Extending the functionality"
     ]
    },
    {
     "cell_type": "markdown",
     "metadata": {
      "slideshow": {
       "slide_type": "slide"
      }
     },
     "source": [
      "### Parametrize the upper limit"
     ]
    },
    {
     "cell_type": "code",
     "collapsed": false,
     "input": [
      "def mult_of_3_or_5(limit):\n",
      "    return [e for e in range(limit) if e % 3 == 0 or e % 5 == 0]\n",
      "\n",
      "sum(mult_of_3_or_5(1000))"
     ],
     "language": "python",
     "metadata": {
      "slideshow": {
       "slide_type": "subslide"
      }
     },
     "outputs": []
    },
    {
     "cell_type": "markdown",
     "metadata": {
      "slideshow": {
       "slide_type": "slide"
      }
     },
     "source": [
      "### Parametrize the numbers to be divisible by"
     ]
    },
    {
     "cell_type": "markdown",
     "metadata": {
      "slideshow": {
       "slide_type": "subslide"
      }
     },
     "source": [
      "#### V1"
     ]
    },
    {
     "cell_type": "code",
     "collapsed": false,
     "input": [
      "def mult_of(limit, divisors):\n",
      "    numbers = set()\n",
      "    for e in range(limit):\n",
      "        for divisor in divisors:\n",
      "            if e % divisor == 0:\n",
      "                numbers.add(e)\n",
      "    return numbers\n",
      "\n",
      "print(sum(mult_of(1000, [3, 5])))"
     ],
     "language": "python",
     "metadata": {
      "slideshow": {
       "slide_type": "subslide"
      }
     },
     "outputs": []
    },
    {
     "cell_type": "markdown",
     "metadata": {
      "slideshow": {
       "slide_type": "slide"
      }
     },
     "source": [
      "#### V2"
     ]
    },
    {
     "cell_type": "code",
     "collapsed": false,
     "input": [
      "# use set comprehension with any(iterable)\n",
      "def mult_of(limit, divisors):\n",
      "    return {e for e in range(limit) if \n",
      "               any(e % d == 0 for d in divisors)}\n",
      "\n",
      "print(sum(mult_of(1000, [3, 5])))"
     ],
     "language": "python",
     "metadata": {
      "slideshow": {
       "slide_type": "subslide"
      }
     },
     "outputs": []
    }
   ],
   "metadata": {}
  }
 ]
}